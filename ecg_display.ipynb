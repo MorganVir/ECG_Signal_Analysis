{
 "cells": [
  {
   "cell_type": "code",
   "execution_count": null,
   "id": "63065e41",
   "metadata": {},
   "outputs": [
    {
     "name": "stdout",
     "output_type": "stream",
     "text": [
      "Shape: (6500, 3)\n",
      "0    float64\n",
      "1    float64\n",
      "2    float64\n",
      "dtype: object\n",
      "       0      1      2\n",
      "0 -275.0 -119.0 -119.0\n",
      "1 -275.0 -119.0 -119.0\n",
      "2 -275.0 -118.0 -121.0\n",
      "3 -275.0 -121.0 -112.0\n",
      "4 -273.0 -120.0 -105.0\n"
     ]
    }
   ],
   "source": [
    "# imports\n",
    "import numpy as np\n",
    "import matplotlib.pyplot as plt\n",
    "import pandas as pd\n",
    "\n",
    "path = r'data\\ecgu.txt' # r for raw string, otherwise it triggers \\e as an escape\n",
    "\n",
    "df = pd.read_csv(\n",
    "    path,\n",
    "    sep=r\"\\s+\",      # whitespace are used are separators (at least one)\n",
    "    header=None,\n",
    "    comment=\"#\",\n",
    "    skip_blank_lines=True\n",
    ")\n",
    "\n",
    "print(\"Shape:\", df.shape)\n",
    "print(df.dtypes)\n",
    "print(df.head())\n"
   ]
  }
 ],
 "metadata": {
  "kernelspec": {
   "display_name": "base",
   "language": "python",
   "name": "python3"
  },
  "language_info": {
   "codemirror_mode": {
    "name": "ipython",
    "version": 3
   },
   "file_extension": ".py",
   "mimetype": "text/x-python",
   "name": "python",
   "nbconvert_exporter": "python",
   "pygments_lexer": "ipython3",
   "version": "3.13.5"
  }
 },
 "nbformat": 4,
 "nbformat_minor": 5
}
